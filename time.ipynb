{
 "cells": [
  {
   "cell_type": "code",
   "execution_count": 3,
   "metadata": {},
   "outputs": [
    {
     "name": "stdout",
     "output_type": "stream",
     "text": [
      "[[0, 1], [1, 2], [2, 3], [3, 4], [4, 5], [5, 6], [6, 7], [7, 8], [8, 9], [9, 10]]\n",
      "[[10, 11], [11, 12], [12, 13], [13, 14], [14, 15], [15, 16], [16, 17], [17, 18], [18, 19], [19, 20]]\n"
     ]
    }
   ],
   "source": [
    "track = []\n",
    "for i in range(0,10):\n",
    "    track.append([i, i+1])\n",
    "\n",
    "track2 = []\n",
    "for i in range(10,20):\n",
    "    track2.append([i, i+1])\n",
    "\n",
    "print(track)\n",
    "print(track2)"
   ]
  },
  {
   "cell_type": "code",
   "execution_count": 4,
   "metadata": {},
   "outputs": [
    {
     "name": "stdout",
     "output_type": "stream",
     "text": [
      "[[[0, 1], [1, 2], [2, 3], [3, 4], [4, 5], [5, 6], [6, 7], [7, 8], [8, 9], [9, 10]], [[10, 11], [11, 12], [12, 13], [13, 14], [14, 15], [15, 16], [16, 17], [17, 18], [18, 19], [19, 20]]]\n"
     ]
    }
   ],
   "source": [
    "combine = []\n",
    "\n",
    "combine.append(track)\n",
    "combine.append(track2)\n",
    "\n",
    "print(combine)"
   ]
  },
  {
   "cell_type": "code",
   "execution_count": 5,
   "metadata": {},
   "outputs": [
    {
     "name": "stdout",
     "output_type": "stream",
     "text": [
      "len(track) 10 len(track[i]): 2\n",
      "combine[i][j-1][0]: 0 combine[i][j-1][1]: 1\n",
      "combine[i][j][0]: 1 combine[i][j][1]: 2\n",
      "combine[i][j-1][0]: 1 combine[i][j-1][1]: 2\n",
      "combine[i][j][0]: 2 combine[i][j][1]: 3\n",
      "combine[i][j-1][0]: 2 combine[i][j-1][1]: 3\n",
      "combine[i][j][0]: 3 combine[i][j][1]: 4\n",
      "combine[i][j-1][0]: 3 combine[i][j-1][1]: 4\n",
      "combine[i][j][0]: 4 combine[i][j][1]: 5\n",
      "combine[i][j-1][0]: 4 combine[i][j-1][1]: 5\n",
      "combine[i][j][0]: 5 combine[i][j][1]: 6\n",
      "combine[i][j-1][0]: 5 combine[i][j-1][1]: 6\n",
      "combine[i][j][0]: 6 combine[i][j][1]: 7\n",
      "combine[i][j-1][0]: 6 combine[i][j-1][1]: 7\n",
      "combine[i][j][0]: 7 combine[i][j][1]: 8\n",
      "combine[i][j-1][0]: 7 combine[i][j-1][1]: 8\n",
      "combine[i][j][0]: 8 combine[i][j][1]: 9\n",
      "combine[i][j-1][0]: 8 combine[i][j-1][1]: 9\n",
      "combine[i][j][0]: 9 combine[i][j][1]: 10\n",
      "len(track) 10 len(track[i]): 2\n",
      "combine[i][j-1][0]: 10 combine[i][j-1][1]: 11\n",
      "combine[i][j][0]: 11 combine[i][j][1]: 12\n",
      "combine[i][j-1][0]: 11 combine[i][j-1][1]: 12\n",
      "combine[i][j][0]: 12 combine[i][j][1]: 13\n",
      "combine[i][j-1][0]: 12 combine[i][j-1][1]: 13\n",
      "combine[i][j][0]: 13 combine[i][j][1]: 14\n",
      "combine[i][j-1][0]: 13 combine[i][j-1][1]: 14\n",
      "combine[i][j][0]: 14 combine[i][j][1]: 15\n",
      "combine[i][j-1][0]: 14 combine[i][j-1][1]: 15\n",
      "combine[i][j][0]: 15 combine[i][j][1]: 16\n",
      "combine[i][j-1][0]: 15 combine[i][j-1][1]: 16\n",
      "combine[i][j][0]: 16 combine[i][j][1]: 17\n",
      "combine[i][j-1][0]: 16 combine[i][j-1][1]: 17\n",
      "combine[i][j][0]: 17 combine[i][j][1]: 18\n",
      "combine[i][j-1][0]: 17 combine[i][j-1][1]: 18\n",
      "combine[i][j][0]: 18 combine[i][j][1]: 19\n",
      "combine[i][j-1][0]: 18 combine[i][j-1][1]: 19\n",
      "combine[i][j][0]: 19 combine[i][j][1]: 20\n"
     ]
    }
   ],
   "source": [
    "for i in range(0,len(combine\n",
    ")):\n",
    "                            print(\"len(track)\",len(track),\"len(track[i]):\",len(track[i]))\n",
    "                            for j in range(0,len(combine[i])):\n",
    "                                if j > 0:\n",
    "                                    print(\"combine[i][j-1][0]:\",combine[i][j-1][0],\"combine[i][j-1][1]:\",combine[i][j-1][1])\n",
    "                                    print(\"combine[i][j][0]:\",combine[i][j][0],\"combine[i][j][1]:\",combine[i][j][1])"
   ]
  },
  {
   "cell_type": "code",
   "execution_count": 15,
   "metadata": {},
   "outputs": [],
   "source": [
    "import cv2\n",
    "colorlist = [(255, 100, 0), (0, 255, 0), (0, 0, 255), (255, 0, 255), (255, 255, 0), (0, 255, 255)]#bgr 藍 綠 紅 紫 黃 青\n",
    "image = cv2.imread('LINE.jpg')\n",
    "image = cv2.resize(image, (640, 480))\n",
    "cv2.rectangle(image, (20, 60), (40, 100), colorlist[0], -1)#(20, 60)w80 h40\n",
    "cv2.rectangle(image, (20, 110), (70, 150), colorlist[1], -1)#(20, 60)\n",
    "cv2.rectangle(image, (20, 160), (40, 200), colorlist[2], -1)#(20, 60)\n",
    "cv2.imshow('MediaPipe Hands', image)\n",
    "\n",
    "cv2.waitKey(0)\n",
    "cv2.destroyAllWindows()"
   ]
  },
  {
   "attachments": {},
   "cell_type": "markdown",
   "metadata": {},
   "source": [
    "-------"
   ]
  },
  {
   "cell_type": "code",
   "execution_count": 7,
   "metadata": {},
   "outputs": [
    {
     "data": {
      "image/png": "[encoded data removed]",
      "text/plain": [
       "<Figure size 640x480 with 1 Axes>"
      ]
     },
     "metadata": {},
     "output_type": "display_data"
    }
   ],
   "source": [
    "import numpy as np\n",
    "import matplotlib.pyplot as plt\n",
    "\n",
    "def generate_parabolic_data(a, b, c, x_values):\n",
    "    y_values = a * x_values*2 + b * x_values + c\n",
    "    return y_values\n",
    "\n",
    "# 定義拋物線方程式的係數\n",
    "a = -0.01\n",
    "b = -5\n",
    "c = 1000\n",
    "\n",
    "# 選擇在區間[500, 191]內生成資料的x值\n",
    "x_values = np.linspace(500, 191, num=100)\n",
    "\n",
    "# 生成對應的y值\n",
    "y_values = generate_parabolic_data(a, b, c, x_values)\n",
    "\n",
    "# 建立矩陣存儲x和y值\n",
    "data_matrix = np.vstack((x_values, y_values)).T\n",
    "\n",
    "# 使用Matplotlib繪製拋物線圖形\n",
    "plt.plot(data_matrix[:, 0], data_matrix[:, 1])\n",
    "plt.xlabel('x')\n",
    "plt.ylabel('y')\n",
    "plt.title('Parabolic Curve')\n",
    "plt.show()\n"
   ]
  },
  {
   "cell_type": "code",
   "execution_count": 20,
   "metadata": {},
   "outputs": [
    {
     "name": "stdout",
     "output_type": "stream",
     "text": [
      "191\n",
      "188\n",
      "185\n",
      "182\n",
      "179\n",
      "176\n",
      "173\n",
      "170\n",
      "167\n",
      "164\n",
      "161\n",
      "158\n",
      "155\n",
      "152\n",
      "149\n",
      "146\n",
      "143\n",
      "140\n",
      "137\n",
      "134\n",
      "131\n",
      "128\n",
      "125\n",
      "122\n",
      "119\n",
      "116\n",
      "113\n",
      "110\n",
      "107\n",
      "104\n",
      "101\n",
      "98\n",
      "95\n",
      "92\n",
      "end////////////\n",
      "90\n",
      "88\n",
      "86\n",
      "84\n",
      "82\n",
      "80\n",
      "78\n",
      "76\n",
      "74\n",
      "72\n",
      "70\n",
      "68\n",
      "66\n",
      "64\n",
      "62\n",
      "60\n",
      "58\n",
      "56\n",
      "54\n",
      "52\n",
      "50\n",
      "48\n",
      "46\n",
      "44\n",
      "42\n",
      "40\n",
      "38\n",
      "36\n",
      "34\n",
      "32\n",
      "30\n",
      "28\n",
      "26\n",
      "24\n",
      "22\n",
      "end\n"
     ]
    }
   ],
   "source": [
    "# for i in range(500,300,-15):\n",
    "#     print(i)\n",
    "\n",
    "# print(\"end\")\n",
    "\n",
    "\n",
    "# for i in range(300,191,-3):\n",
    "#     print(i)\n",
    "\n",
    "for i in range(191,90,-3):\n",
    "    print(i)\n",
    "\n",
    "print(\"end////////////\")\n",
    "\n",
    "\n",
    "for i in range(90,20,-2):\n",
    "    print(i)\n",
    "print(\"end\")\n"
   ]
  }
 ],
 "metadata": {
  "kernelspec": {
   "display_name": "mediapipe",
   "language": "python",
   "name": "python3"
  },
  "language_info": {
   "codemirror_mode": {
    "name": "ipython",
    "version": 3
   },
   "file_extension": ".py",
   "mimetype": "text/x-python",
   "name": "python",
   "nbconvert_exporter": "python",
   "pygments_lexer": "ipython3",
   "version": "3.9.16"
  },
  "orig_nbformat": 4
 },
 "nbformat": 4,
 "nbformat_minor": 2
}
