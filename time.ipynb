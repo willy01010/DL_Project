{
 "cells": [
  {
   "cell_type": "code",
   "execution_count": 3,
   "metadata": {},
   "outputs": [
    {
     "name": "stdout",
     "output_type": "stream",
     "text": [
      "[[0, 1], [1, 2], [2, 3], [3, 4], [4, 5], [5, 6], [6, 7], [7, 8], [8, 9], [9, 10]]\n",
      "[[10, 11], [11, 12], [12, 13], [13, 14], [14, 15], [15, 16], [16, 17], [17, 18], [18, 19], [19, 20]]\n"
     ]
    }
   ],
   "source": [
    "track = []\n",
    "for i in range(0,10):\n",
    "    track.append([i, i+1])\n",
    "\n",
    "track2 = []\n",
    "for i in range(10,20):\n",
    "    track2.append([i, i+1])\n",
    "\n",
    "print(track)\n",
    "print(track2)"
   ]
  },
  {
   "cell_type": "code",
   "execution_count": 4,
   "metadata": {},
   "outputs": [
    {
     "name": "stdout",
     "output_type": "stream",
     "text": [
      "[[[0, 1], [1, 2], [2, 3], [3, 4], [4, 5], [5, 6], [6, 7], [7, 8], [8, 9], [9, 10]], [[10, 11], [11, 12], [12, 13], [13, 14], [14, 15], [15, 16], [16, 17], [17, 18], [18, 19], [19, 20]]]\n"
     ]
    }
   ],
   "source": [
    "combine = []\n",
    "\n",
    "combine.append(track)\n",
    "combine.append(track2)\n",
    "\n",
    "print(combine)"
   ]
  },
  {
   "cell_type": "code",
   "execution_count": 5,
   "metadata": {},
   "outputs": [
    {
     "name": "stdout",
     "output_type": "stream",
     "text": [
      "len(track) 10 len(track[i]): 2\n",
      "combine[i][j-1][0]: 0 combine[i][j-1][1]: 1\n",
      "combine[i][j][0]: 1 combine[i][j][1]: 2\n",
      "combine[i][j-1][0]: 1 combine[i][j-1][1]: 2\n",
      "combine[i][j][0]: 2 combine[i][j][1]: 3\n",
      "combine[i][j-1][0]: 2 combine[i][j-1][1]: 3\n",
      "combine[i][j][0]: 3 combine[i][j][1]: 4\n",
      "combine[i][j-1][0]: 3 combine[i][j-1][1]: 4\n",
      "combine[i][j][0]: 4 combine[i][j][1]: 5\n",
      "combine[i][j-1][0]: 4 combine[i][j-1][1]: 5\n",
      "combine[i][j][0]: 5 combine[i][j][1]: 6\n",
      "combine[i][j-1][0]: 5 combine[i][j-1][1]: 6\n",
      "combine[i][j][0]: 6 combine[i][j][1]: 7\n",
      "combine[i][j-1][0]: 6 combine[i][j-1][1]: 7\n",
      "combine[i][j][0]: 7 combine[i][j][1]: 8\n",
      "combine[i][j-1][0]: 7 combine[i][j-1][1]: 8\n",
      "combine[i][j][0]: 8 combine[i][j][1]: 9\n",
      "combine[i][j-1][0]: 8 combine[i][j-1][1]: 9\n",
      "combine[i][j][0]: 9 combine[i][j][1]: 10\n",
      "len(track) 10 len(track[i]): 2\n",
      "combine[i][j-1][0]: 10 combine[i][j-1][1]: 11\n",
      "combine[i][j][0]: 11 combine[i][j][1]: 12\n",
      "combine[i][j-1][0]: 11 combine[i][j-1][1]: 12\n",
      "combine[i][j][0]: 12 combine[i][j][1]: 13\n",
      "combine[i][j-1][0]: 12 combine[i][j-1][1]: 13\n",
      "combine[i][j][0]: 13 combine[i][j][1]: 14\n",
      "combine[i][j-1][0]: 13 combine[i][j-1][1]: 14\n",
      "combine[i][j][0]: 14 combine[i][j][1]: 15\n",
      "combine[i][j-1][0]: 14 combine[i][j-1][1]: 15\n",
      "combine[i][j][0]: 15 combine[i][j][1]: 16\n",
      "combine[i][j-1][0]: 15 combine[i][j-1][1]: 16\n",
      "combine[i][j][0]: 16 combine[i][j][1]: 17\n",
      "combine[i][j-1][0]: 16 combine[i][j-1][1]: 17\n",
      "combine[i][j][0]: 17 combine[i][j][1]: 18\n",
      "combine[i][j-1][0]: 17 combine[i][j-1][1]: 18\n",
      "combine[i][j][0]: 18 combine[i][j][1]: 19\n",
      "combine[i][j-1][0]: 18 combine[i][j-1][1]: 19\n",
      "combine[i][j][0]: 19 combine[i][j][1]: 20\n"
     ]
    }
   ],
   "source": [
    "for i in range(0,len(combine\n",
    ")):\n",
    "                            print(\"len(track)\",len(track),\"len(track[i]):\",len(track[i]))\n",
    "                            for j in range(0,len(combine[i])):\n",
    "                                if j > 0:\n",
    "                                    print(\"combine[i][j-1][0]:\",combine[i][j-1][0],\"combine[i][j-1][1]:\",combine[i][j-1][1])\n",
    "                                    print(\"combine[i][j][0]:\",combine[i][j][0],\"combine[i][j][1]:\",combine[i][j][1])"
   ]
  }
 ],
 "metadata": {
  "kernelspec": {
   "display_name": "mediapipe",
   "language": "python",
   "name": "python3"
  },
  "language_info": {
   "codemirror_mode": {
    "name": "ipython",
    "version": 3
   },
   "file_extension": ".py",
   "mimetype": "text/x-python",
   "name": "python",
   "nbconvert_exporter": "python",
   "pygments_lexer": "ipython3",
   "version": "3.9.16"
  },
  "orig_nbformat": 4
 },
 "nbformat": 4,
 "nbformat_minor": 2
}
